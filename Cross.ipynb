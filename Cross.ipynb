{
 "cells": [
  {
   "cell_type": "code",
   "execution_count": 1,
   "metadata": {},
   "outputs": [
    {
     "name": "stderr",
     "output_type": "stream",
     "text": [
      "C:\\Users\\Aoda\\Anaconda3\\lib\\site-packages\\gensim\\utils.py:1197: UserWarning: detected Windows; aliasing chunkize to chunkize_serial\n",
      "  warnings.warn(\"detected Windows; aliasing chunkize to chunkize_serial\")\n"
     ]
    }
   ],
   "source": [
    "import gensim\n",
    "import numpy as np\n"
   ]
  },
  {
   "cell_type": "code",
   "execution_count": null,
   "metadata": {},
   "outputs": [],
   "source": [
    "def exportOut(l, lang):\n",
    "    data = open('out.txt', 'a', encoding='utf-8')\n",
    "    data.write('\\n' + str(lang))\n",
    "    for i in l:\n",
    "        data.write('\\n')\n",
    "        data.write(str(i))\n",
    "    \n",
    "    data.close()\n",
    "    \n",
    "def cos_sim(a, b):\n",
    "    dot_product = np.dot(a, b)\n",
    "    norm_a = np.linalg.norm(a)\n",
    "    norm_b = np.linalg.norm(b)\n",
    "    return dot_product / (norm_a * norm_b)"
   ]
  },
  {
   "cell_type": "markdown",
   "metadata": {},
   "source": [
    "<h1>Import dictionaries</h1>"
   ]
  },
  {
   "cell_type": "code",
   "execution_count": 2,
   "metadata": {},
   "outputs": [],
   "source": [
    "fralign = gensim.models.KeyedVectors.load_word2vec_format('frenchtransform.bin')"
   ]
  },
  {
   "cell_type": "code",
   "execution_count": 9,
   "metadata": {},
   "outputs": [],
   "source": [
    "frnonalign = gensim.models.KeyedVectors.load_word2vec_format('frenchnonalign.bin')"
   ]
  },
  {
   "cell_type": "code",
   "execution_count": 19,
   "metadata": {},
   "outputs": [],
   "source": [
    "runonalign = gensim.models.KeyedVectors.load_word2vec_format('russiannonalign.bin')"
   ]
  },
  {
   "cell_type": "code",
   "execution_count": 49,
   "metadata": {},
   "outputs": [],
   "source": [
    "alnonalign = gensim.models.KeyedVectors.load_word2vec_format('denonalign.bin')"
   ]
  },
  {
   "cell_type": "code",
   "execution_count": 54,
   "metadata": {},
   "outputs": [],
   "source": [
    "alalign = gensim.models.KeyedVectors.load_word2vec_format('alltransform.bin')"
   ]
  },
  {
   "cell_type": "markdown",
   "metadata": {},
   "source": [
    "<h1>Release RAM</h1>"
   ]
  },
  {
   "cell_type": "code",
   "execution_count": 55,
   "metadata": {},
   "outputs": [
    {
     "name": "stderr",
     "output_type": "stream",
     "text": [
      "C:\\Users\\Aoda\\Anaconda3\\lib\\site-packages\\ipykernel_launcher.py:1: DeprecationWarning: Call to deprecated `wv` (Attribute will be removed in 4.0.0, use self instead).\n",
      "  \"\"\"Entry point for launching an IPython kernel.\n"
     ]
    }
   ],
   "source": [
    "alaligned = alalign.wv\n",
    "chat_al = alaligned['katze']\n",
    "del alalign"
   ]
  },
  {
   "cell_type": "code",
   "execution_count": 53,
   "metadata": {},
   "outputs": [
    {
     "name": "stderr",
     "output_type": "stream",
     "text": [
      "C:\\Users\\Aoda\\Anaconda3\\lib\\site-packages\\ipykernel_launcher.py:1: DeprecationWarning: Call to deprecated `wv` (Attribute will be removed in 4.0.0, use self instead).\n",
      "  \"\"\"Entry point for launching an IPython kernel.\n"
     ]
    }
   ],
   "source": [
    "alnon = alnonalign.wv\n",
    "chat_al = alnon['katze']\n",
    "del alnonalign"
   ]
  },
  {
   "cell_type": "code",
   "execution_count": 8,
   "metadata": {},
   "outputs": [
    {
     "name": "stderr",
     "output_type": "stream",
     "text": [
      "C:\\Users\\Aoda\\Anaconda3\\lib\\site-packages\\ipykernel_launcher.py:1: DeprecationWarning: Call to deprecated `wv` (Attribute will be removed in 4.0.0, use self instead).\n",
      "  \"\"\"Entry point for launching an IPython kernel.\n"
     ]
    }
   ],
   "source": [
    "fraligned = fralign.wv\n",
    "chat_fr = fraligned['chat']\n",
    "del fralign"
   ]
  },
  {
   "cell_type": "code",
   "execution_count": 10,
   "metadata": {},
   "outputs": [
    {
     "name": "stderr",
     "output_type": "stream",
     "text": [
      "C:\\Users\\Aoda\\Anaconda3\\lib\\site-packages\\ipykernel_launcher.py:1: DeprecationWarning: Call to deprecated `wv` (Attribute will be removed in 4.0.0, use self instead).\n",
      "  \"\"\"Entry point for launching an IPython kernel.\n"
     ]
    }
   ],
   "source": [
    "frnonaligned = frnonalign.wv\n",
    "chat_fr_non = frnonaligned['chat']\n",
    "del frnonalign"
   ]
  },
  {
   "cell_type": "code",
   "execution_count": 21,
   "metadata": {},
   "outputs": [
    {
     "name": "stderr",
     "output_type": "stream",
     "text": [
      "C:\\Users\\Aoda\\Anaconda3\\lib\\site-packages\\ipykernel_launcher.py:1: DeprecationWarning: Call to deprecated `wv` (Attribute will be removed in 4.0.0, use self instead).\n",
      "  \"\"\"Entry point for launching an IPython kernel.\n"
     ]
    }
   ],
   "source": [
    "russiannon = runonalign.wv\n",
    "chat_ru_non = russiannon['кот']\n",
    "del runonalign"
   ]
  },
  {
   "cell_type": "markdown",
   "metadata": {},
   "source": [
    "<h2>Words needed</h2>"
   ]
  },
  {
   "cell_type": "code",
   "execution_count": 32,
   "metadata": {},
   "outputs": [],
   "source": [
    "chat_ru = russiannon['кот']\n",
    "aca_ru = russiannon['академия']\n",
    "geo_ru = russiannon['география']\n",
    "inf_ru  = russiannon['информация']\n",
    "ab_ru = russiannon['абзац']\n",
    "fal_ru = russiannon['фальц']"
   ]
  },
  {
   "cell_type": "code",
   "execution_count": 31,
   "metadata": {},
   "outputs": [],
   "source": [
    "chat_fr_align = fraligned['chat']\n",
    "aca_fr_align = fraligned['académie']\n",
    "geo_fr_align = fraligned['géographie']\n",
    "inf_fr_align = fraligned['information']\n",
    "\n",
    "chat_fr_non = frnonaligned['chat']\n",
    "aca_fr_non = frnonaligned['académie']\n",
    "geo_fr_non = frnonaligned['géographie']\n",
    "inf_fr_non = frnonaligned['information']\n"
   ]
  },
  {
   "cell_type": "code",
   "execution_count": 60,
   "metadata": {},
   "outputs": [],
   "source": [
    "chat_al_non = alnon['Katze']\n",
    "aca_al_non = alnon['Akademie']\n",
    "geo_al_non = alnon['Geographie']\n",
    "inf_al_non = alnon['Informationen']\n",
    "ab_al_non = alnon['Absatz']\n",
    "fal_al_non = alnon['falz']\n",
    "\n",
    "chat_al_al = alaligned['Katze']\n",
    "aca_al_al = alaligned['Akademie']\n",
    "geo_al_al = alaligned['Geographie']\n",
    "inf_al_al = alaligned['Informationen']\n",
    "ab_al_al = alaligned['Absatz']\n",
    "fal_al_al = alaligned['falz']"
   ]
  },
  {
   "cell_type": "markdown",
   "metadata": {},
   "source": [
    "<h1>French-Russian alignment</h1>"
   ]
  },
  {
   "cell_type": "code",
   "execution_count": 36,
   "metadata": {},
   "outputs": [
    {
     "name": "stdout",
     "output_type": "stream",
     "text": [
      "chat_franco_russe\n",
      "barsac : 0.27720576524734497\n",
      "excideuil : 0.2677571177482605\n",
      "hamngatan : 0.2565847635269165\n",
      "réols : 0.2520303726196289\n",
      "ronne : 0.25125014781951904\n",
      "bréols : 0.2509583532810211\n",
      "capesterre : 0.2483527660369873\n",
      "borgt : 0.24638813734054565\n",
      "zegveld : 0.24626077711582184\n",
      "borgueil : 0.24515816569328308\n"
     ]
    }
   ],
   "source": [
    "#a russian cat in a french world\n",
    "chat_franco_russe = frnonaligned.most_similar(positive=[chat_ru], topn=10)\n",
    "print('chat_franco_russe')\n",
    "for (a,b) in chat_franco_russe:\n",
    "    print(a + \" : \" + str(b))\n",
    "del chat_franco_russe"
   ]
  },
  {
   "cell_type": "code",
   "execution_count": 37,
   "metadata": {},
   "outputs": [
    {
     "name": "stdout",
     "output_type": "stream",
     "text": [
      "chat_franco_russe_boosted\n",
      "routoutou : 0.435392826795578\n",
      "toutouffu : 0.4285179674625397\n",
      "soumangourou : 0.42761123180389404\n",
      "grognon : 0.4244201183319092\n",
      "toutouille : 0.42199236154556274\n",
      "bénureau : 0.42011433839797974\n",
      "youtou : 0.4136241674423218\n",
      "мальчик : 0.40881967544555664\n",
      "попрыгунья : 0.407204270362854\n",
      "rugiceps : 0.4071929454803467\n"
     ]
    }
   ],
   "source": [
    "#a russian cat in a semi french world\n",
    "chat_franco_russe_boosted =fraligned.most_similar(positive=[chat_ru], topn=10)\n",
    "print('chat_franco_russe_boosted')\n",
    "for (a,b) in chat_franco_russe_boosted:\n",
    "    print(a + \" : \" + str(b))\n",
    "del chat_franco_russe_boosted"
   ]
  },
  {
   "cell_type": "markdown",
   "metadata": {},
   "source": [
    "<h1>Similarity</h1>"
   ]
  },
  {
   "cell_type": "code",
   "execution_count": 85,
   "metadata": {},
   "outputs": [
    {
     "name": "stdout",
     "output_type": "stream",
     "text": [
      "0.023862036\n",
      "0.37736806\n"
     ]
    }
   ],
   "source": [
    "print (cos_sim(chat_fr_non, chat_ru))\n",
    "print (cos_sim(chat_fr_align, chat_ru))"
   ]
  },
  {
   "cell_type": "markdown",
   "metadata": {},
   "source": [
    "<h1>French query</h1>"
   ]
  },
  {
   "cell_type": "code",
   "execution_count": 40,
   "metadata": {},
   "outputs": [
    {
     "name": "stdout",
     "output_type": "stream",
     "text": [
      "chat_franco_franco\n",
      "chat : 1.0\n",
      "chats : 0.7120586037635803\n",
      "chien : 0.663030207157135\n",
      "félin : 0.6281734108924866\n",
      "chatte : 0.623589038848877\n",
      "lapin : 0.6211234331130981\n",
      "viverrin : 0.5997869372367859\n",
      "chat» : 0.5940316915512085\n",
      "chaton : 0.5848442316055298\n",
      "miaule : 0.583796501159668\n"
     ]
    }
   ],
   "source": [
    "#non align with non aligned word\n",
    "chat_franco_franco =frnonaligned.most_similar(positive=[chat_fr_non], topn=10)\n",
    "print('chat_franco_franco')\n",
    "for (a,b) in chat_franco_franco:\n",
    "    print(a + \" : \" + str(b))"
   ]
  },
  {
   "cell_type": "code",
   "execution_count": 43,
   "metadata": {},
   "outputs": [
    {
     "name": "stdout",
     "output_type": "stream",
     "text": [
      "chat_franco_franco_semi_boosted\n",
      "anarchisant : 0.2024880349636078\n",
      "akah : 0.20110368728637695\n",
      "anarchias : 0.1979268193244934\n",
      "baty : 0.19219467043876648\n",
      "prolongeant : 0.18718257546424866\n",
      "anarchisantes : 0.18569812178611755\n",
      "fermant : 0.18537546694278717\n",
      "litani : 0.18445177376270294\n",
      "faucillon : 0.18235066533088684\n",
      "pmr : 0.18191102147102356\n"
     ]
    }
   ],
   "source": [
    "#non align with aligned word\n",
    "chat_franco_franco_boosted =frnonaligned.most_similar(positive=[chat_fr_align], topn=10)\n",
    "print('chat_franco_franco_semi_boosted')\n",
    "for (a,b) in chat_franco_franco_boosted:\n",
    "    print(a + \" : \" + str(b))"
   ]
  },
  {
   "cell_type": "code",
   "execution_count": 38,
   "metadata": {},
   "outputs": [
    {
     "name": "stdout",
     "output_type": "stream",
     "text": [
      "chat_franco_franco_boosted\n",
      "chat : 0.9999999403953552\n",
      "chats : 0.7120586633682251\n",
      "chien : 0.663030207157135\n",
      "félin : 0.6281735301017761\n",
      "chatte : 0.623589038848877\n",
      "lapin : 0.6211234331130981\n",
      "viverrin : 0.5997869968414307\n",
      "chat» : 0.594031572341919\n",
      "chaton : 0.5848442316055298\n",
      "miaule : 0.583796501159668\n"
     ]
    }
   ],
   "source": [
    "#align with aligned word\n",
    "chat_franco_franco_boosted =fraligned.most_similar(positive=[chat_fr_align], topn=10)\n",
    "print('chat_franco_franco_boosted')\n",
    "for (a,b) in chat_franco_franco_boosted:\n",
    "    print(a + \" : \" + str(b))"
   ]
  },
  {
   "cell_type": "code",
   "execution_count": 42,
   "metadata": {},
   "outputs": [
    {
     "name": "stdout",
     "output_type": "stream",
     "text": [
      "chat_franco_franco_semi-boosted\n",
      "carbendazime : 0.2344762086868286\n",
      "antisuyo : 0.2128087282180786\n",
      "ormey : 0.20853836834430695\n",
      "succow : 0.20830821990966797\n",
      "arbon : 0.20547844469547272\n",
      "spécifia : 0.2053348869085312\n",
      "caerphilly : 0.20357641577720642\n",
      "gettysburg : 0.20356464385986328\n",
      "albariño : 0.20225737988948822\n",
      "methueni : 0.20147159695625305\n"
     ]
    }
   ],
   "source": [
    "#align with non aligned word\n",
    "chat_franco_franco_boosted = fraligned.most_similar(positive=[chat_fr_non], topn=10)\n",
    "print('chat_franco_franco_semi-boosted')\n",
    "for (a,b) in chat_franco_franco_boosted:\n",
    "    print(a + \" : \" + str(b))"
   ]
  },
  {
   "cell_type": "markdown",
   "metadata": {},
   "source": []
  },
  {
   "cell_type": "code",
   "execution_count": null,
   "metadata": {},
   "outputs": [],
   "source": []
  },
  {
   "cell_type": "markdown",
   "metadata": {},
   "source": [
    "<h1>Cross lingual words</h1>"
   ]
  },
  {
   "cell_type": "code",
   "execution_count": 64,
   "metadata": {},
   "outputs": [
    {
     "name": "stdout",
     "output_type": "stream",
     "text": [
      "Académie\n",
      "académie : 1.0\n",
      "l`académie : 0.8973304033279419\n",
      "l‘académie : 0.8959124088287354\n",
      "cadémie : 0.884148359298706\n",
      "lacadémie : 0.8814295530319214\n",
      "académie, : 0.8617697954177856\n",
      "/académie : 0.8389642238616943\n",
      "académie  : 0.8261109590530396\n",
      "artsacadémie : 0.8199694156646729\n",
      "parisacadémie : 0.8064737319946289\n"
     ]
    }
   ],
   "source": [
    "aca_fr_list = frnonaligned.most_similar(positive=[aca_fr_non], topn=10)\n",
    "print('Académie')\n",
    "for (a,b) in aca_fr_list:\n",
    "    print(a + \" : \" + str(b))"
   ]
  },
  {
   "cell_type": "code",
   "execution_count": 65,
   "metadata": {},
   "outputs": [
    {
     "name": "stdout",
     "output_type": "stream",
     "text": [
      "академия\n",
      "академия : 0.9999999403953552\n",
      "aкадемия : 0.8907476663589478\n",
      "академия, : 0.8752795457839966\n",
      "кадемия : 0.8639886379241943\n",
      "„академия : 0.8459756970405579\n",
      "#академия : 0.8434630632400513\n",
      "финакадемия : 0.8226239681243896\n",
      "юракадемия : 0.8129423260688782\n",
      "медакадемия : 0.8105565905570984\n",
      " академия : 0.794317364692688\n"
     ]
    }
   ],
   "source": [
    "aca_ru_list = russiannon.most_similar(positive=[aca_ru], topn=10)\n",
    "print('академия')\n",
    "for (a,b) in aca_ru_list:\n",
    "    print(a + \" : \" + str(b))"
   ]
  },
  {
   "cell_type": "code",
   "execution_count": 68,
   "metadata": {},
   "outputs": [
    {
     "name": "stdout",
     "output_type": "stream",
     "text": [
      "Akademie\n",
      "Akademie : 1.0\n",
      "Akademien : 0.6860942840576172\n",
      "Medien-Akademie : 0.651105523109436\n",
      "US-Akademie : 0.6504921913146973\n",
      "Akadademie : 0.6387646198272705\n",
      "Elite-Akademie : 0.6348918676376343\n",
      "Forschungsakademie : 0.6335750818252563\n",
      "Malakademie : 0.63280189037323\n",
      "Wissenschaftsakademie : 0.6259545683860779\n",
      "Sommer-Akademie : 0.6233475208282471\n"
     ]
    }
   ],
   "source": [
    "aca_de_list = alnon.most_similar(positive=[aca_al_non], topn=10)\n",
    "print('Akademie')\n",
    "for (a,b) in aca_de_list:\n",
    "    print(a + \" : \" + str(b))"
   ]
  },
  {
   "cell_type": "code",
   "execution_count": 69,
   "metadata": {},
   "outputs": [
    {
     "name": "stdout",
     "output_type": "stream",
     "text": [
      "0.002636521\n",
      "-0.116277635\n",
      "-0.080306254\n"
     ]
    }
   ],
   "source": [
    "print (cos_sim(aca_fr_non, aca_ru))\n",
    "print (cos_sim(aca_fr_non, aca_al_non))\n",
    "print (cos_sim(aca_al_non, aca_ru))"
   ]
  },
  {
   "cell_type": "code",
   "execution_count": null,
   "metadata": {},
   "outputs": [],
   "source": []
  },
  {
   "cell_type": "code",
   "execution_count": 66,
   "metadata": {},
   "outputs": [
    {
     "name": "stdout",
     "output_type": "stream",
     "text": [
      "Akademie\n",
      "WalesTop : 0.2539477050304413\n",
      "Leser-Wertungen : 0.2447444349527359\n",
      "Österreich92 : 0.23514485359191895\n",
      "ÜFab : 0.22763879597187042\n",
      "Mai21 : 0.22749938070774078\n",
      "Kambodscha100 : 0.22697395086288452\n",
      "28Im : 0.22556072473526\n",
      "PeloponnesTop : 0.22474327683448792\n",
      "rollstuhlgerechtrollstuhlgerechter : 0.22407416999340057\n",
      "Valluga : 0.22256849706172943\n"
     ]
    }
   ],
   "source": [
    "aca_de_list = alnon.most_similar(positive=[aca_ru], topn=10)\n",
    "print('Akademie')\n",
    "for (a,b) in aca_de_list:\n",
    "    print(a + \" : \" + str(b))"
   ]
  },
  {
   "cell_type": "code",
   "execution_count": 73,
   "metadata": {},
   "outputs": [
    {
     "name": "stdout",
     "output_type": "stream",
     "text": [
      "академия\n",
      "débords : 0.22735512256622314\n",
      "allegrini : 0.21501266956329346\n",
      "angelic : 0.2076326608657837\n",
      "lunati : 0.20690187811851501\n",
      "barilliers : 0.20314398407936096\n",
      "pellegrini : 0.20267386734485626\n",
      "densifier : 0.1999865174293518\n",
      "cery : 0.1983405500650406\n",
      "vmi : 0.19767287373542786\n",
      "allende : 0.1974799633026123\n"
     ]
    }
   ],
   "source": [
    "aca_fr_list = frnonaligned.most_similar(positive=[aca_ru], topn=10)\n",
    "print('академия')\n",
    "for (a,b) in aca_fr_list:\n",
    "    print(a + \" : \" + str(b))"
   ]
  },
  {
   "cell_type": "code",
   "execution_count": 79,
   "metadata": {},
   "outputs": [
    {
     "data": {
      "text/plain": [
       "0.002636521"
      ]
     },
     "execution_count": 79,
     "metadata": {},
     "output_type": "execute_result"
    }
   ],
   "source": [
    "cos_sim(aca_fr_non, aca_ru)"
   ]
  },
  {
   "cell_type": "code",
   "execution_count": 77,
   "metadata": {},
   "outputs": [
    {
     "name": "stdout",
     "output_type": "stream",
     "text": [
      "академия in french world\n",
      "parisécole : 0.4917650818824768\n",
      ",école : 0.48853379487991333\n",
      "académie, : 0.48404136300086975\n",
      "l`académie : 0.47521817684173584\n",
      "artsécole : 0.4746297001838684\n",
      "университет : 0.4711593687534332\n",
      "академия : 0.4686943292617798\n",
      "artsacadémie : 0.46858569979667664\n",
      "университета : 0.468366414308548\n",
      "/académie : 0.46615979075431824\n"
     ]
    }
   ],
   "source": [
    "aca_fr_list = fraligned.most_similar(positive=[aca_ru], topn=10)\n",
    "print('академия in french world')\n",
    "for (a,b) in aca_fr_list:\n",
    "    print(a + \" : \" + str(b))"
   ]
  },
  {
   "cell_type": "code",
   "execution_count": 80,
   "metadata": {},
   "outputs": [
    {
     "data": {
      "text/plain": [
       "0.45426854"
      ]
     },
     "execution_count": 80,
     "metadata": {},
     "output_type": "execute_result"
    }
   ],
   "source": [
    "cos_sim(aca_fr_align, aca_ru)"
   ]
  },
  {
   "cell_type": "code",
   "execution_count": 82,
   "metadata": {},
   "outputs": [
    {
     "name": "stdout",
     "output_type": "stream",
     "text": [
      "академия in german world non aligned\n",
      "WalesTop : 0.2539477050304413\n",
      "Leser-Wertungen : 0.2447444349527359\n",
      "Österreich92 : 0.23514485359191895\n",
      "ÜFab : 0.22763879597187042\n",
      "Mai21 : 0.22749938070774078\n",
      "Kambodscha100 : 0.22697395086288452\n",
      "28Im : 0.22556072473526\n",
      "PeloponnesTop : 0.22474327683448792\n",
      "rollstuhlgerechtrollstuhlgerechter : 0.22407416999340057\n",
      "Valluga : 0.22256849706172943\n"
     ]
    }
   ],
   "source": [
    "aca_de_list = alnon.most_similar(positive=[aca_ru], topn=10)\n",
    "print('академия in german world non aligned')\n",
    "for (a,b) in aca_de_list:\n",
    "    print(a + \" : \" + str(b))"
   ]
  },
  {
   "cell_type": "code",
   "execution_count": 84,
   "metadata": {},
   "outputs": [
    {
     "name": "stdout",
     "output_type": "stream",
     "text": [
      "академия in german world aligned\n",
      "институт : 0.4827510714530945\n",
      "Институт : 0.464639276266098\n",
      "академия : 0.4576120972633362\n",
      "-Akademie : 0.4471442699432373\n",
      "Josephs-Akademie : 0.43003058433532715\n",
      "Kaiser-Wilhelm-Akademie : 0.4286438524723053\n",
      "Videnskaps-Akademi : 0.42517203092575073\n",
      "RGGU : 0.4216684103012085\n",
      "Международный : 0.42051392793655396\n",
      "Főiskola : 0.41711246967315674\n"
     ]
    }
   ],
   "source": [
    "aca_de_list = alaligned.most_similar(positive=[aca_ru], topn=10)\n",
    "print('академия in german world aligned')\n",
    "for (a,b) in aca_de_list:\n",
    "    print(a + \" : \" + str(b))"
   ]
  },
  {
   "cell_type": "code",
   "execution_count": 90,
   "metadata": {},
   "outputs": [
    {
     "name": "stdout",
     "output_type": "stream",
     "text": [
      "-0.080306254\n",
      "0.3639274\n"
     ]
    }
   ],
   "source": [
    "print(cos_sim(aca_al_non, aca_ru))\n",
    "print(cos_sim(aca_al_al, aca_ru))"
   ]
  },
  {
   "cell_type": "markdown",
   "metadata": {},
   "source": [
    "<h1>Similarity Germanico-Russian</h1>"
   ]
  },
  {
   "cell_type": "code",
   "execution_count": 91,
   "metadata": {},
   "outputs": [
    {
     "name": "stdout",
     "output_type": "stream",
     "text": [
      "Absatz in german world\n",
      "Absatz : 0.9999999403953552\n",
      "Absatzes : 0.774541974067688\n",
      "Absätze : 0.7328870296478271\n",
      "Absätzen : 0.7302578091621399\n",
      "1Absatz : 0.7047185897827148\n",
      "Unterabsatz : 0.6761689186096191\n",
      "Satz : 0.6725403666496277\n",
      "2Absatz : 0.6672340631484985\n",
      "Unterabsatzes : 0.6276006698608398\n",
      "Halbsatz : 0.6204547882080078\n"
     ]
    }
   ],
   "source": [
    "aca_de_list = alnon.most_similar(positive=[ab_al_non], topn=10)\n",
    "print('Absatz in german world')\n",
    "for (a,b) in aca_de_list:\n",
    "    print(a + \" : \" + str(b))"
   ]
  },
  {
   "cell_type": "code",
   "execution_count": 93,
   "metadata": {},
   "outputs": [
    {
     "name": "stdout",
     "output_type": "stream",
     "text": [
      "абзац in russian world\n",
      "абзац : 1.0\n",
      "абзац/раздел : 0.7953528761863708\n",
      "абзаца : 0.7882799506187439\n",
      "абзацей : 0.7787808775901794\n",
      "абзацом : 0.7654058933258057\n",
      "абзацы : 0.7653632164001465\n",
      "абзацик : 0.7637231349945068\n",
      "абзацев : 0.7574560642242432\n",
      "абзацем : 0.7493729591369629\n",
      "абзацов : 0.7453035712242126\n"
     ]
    }
   ],
   "source": [
    "aca_ru_list = russiannon.most_similar(positive=[ab_ru], topn=10)\n",
    "print('абзац in russian world')\n",
    "for (a,b) in aca_ru_list:\n",
    "    print(a + \" : \" + str(b))"
   ]
  },
  {
   "cell_type": "code",
   "execution_count": 94,
   "metadata": {},
   "outputs": [
    {
     "data": {
      "text/plain": [
       "-0.08292675"
      ]
     },
     "execution_count": 94,
     "metadata": {},
     "output_type": "execute_result"
    }
   ],
   "source": [
    "cos_sim(ab_ru, ab_al_non)"
   ]
  },
  {
   "cell_type": "code",
   "execution_count": 97,
   "metadata": {},
   "outputs": [
    {
     "name": "stdout",
     "output_type": "stream",
     "text": [
      "абзац in german world non aligned\n",
      "gration : 0.2602531909942627\n",
      "geschicht : 0.25891149044036865\n",
      "wegtrinken : 0.24858254194259644\n",
      "oin : 0.24380896985530853\n",
      "leich : 0.2434203326702118\n",
      "gemeinlich : 0.24138683080673218\n",
      "HandMit : 0.24027451872825623\n",
      "Kriegssteuern : 0.23685550689697266\n",
      "mühe- : 0.23401889204978943\n",
      "dazua : 0.23081283271312714\n"
     ]
    }
   ],
   "source": [
    "aca_ru_list = alnon.most_similar(positive=[ab_ru], topn=10)\n",
    "print('абзац in german world non aligned')\n",
    "for (a,b) in aca_ru_list:\n",
    "    print(a + \" : \" + str(b))"
   ]
  },
  {
   "cell_type": "code",
   "execution_count": 96,
   "metadata": {},
   "outputs": [
    {
     "name": "stdout",
     "output_type": "stream",
     "text": [
      "абзац in german world aligned\n",
      "как : 0.424832284450531\n",
      "что : 0.4054700434207916\n",
      "текст : 0.40068405866622925\n",
      "TLDR : 0.3981033265590668\n",
      "предложение : 0.39083969593048096\n",
      "Что : 0.39080584049224854\n",
      "описанию : 0.38838106393814087\n",
      "это : 0.38758403062820435\n",
      "read.cgi : 0.3862759470939636\n",
      "нет : 0.384848415851593\n"
     ]
    }
   ],
   "source": [
    "aca_ru_list = alaligned.most_similar(positive=[ab_ru], topn=10)\n",
    "print('абзац in german world aligned')\n",
    "for (a,b) in aca_ru_list:\n",
    "    print(a + \" : \" + str(b))"
   ]
  },
  {
   "cell_type": "code",
   "execution_count": 95,
   "metadata": {},
   "outputs": [
    {
     "data": {
      "text/plain": [
       "0.18130468"
      ]
     },
     "execution_count": 95,
     "metadata": {},
     "output_type": "execute_result"
    }
   ],
   "source": [
    "cos_sim(ab_al_al, ab_ru)"
   ]
  },
  {
   "cell_type": "code",
   "execution_count": null,
   "metadata": {},
   "outputs": [],
   "source": []
  }
 ],
 "metadata": {
  "kernelspec": {
   "display_name": "Python 3",
   "language": "python",
   "name": "python3"
  },
  "language_info": {
   "codemirror_mode": {
    "name": "ipython",
    "version": 3
   },
   "file_extension": ".py",
   "mimetype": "text/x-python",
   "name": "python",
   "nbconvert_exporter": "python",
   "pygments_lexer": "ipython3",
   "version": "3.6.4"
  }
 },
 "nbformat": 4,
 "nbformat_minor": 2
}
